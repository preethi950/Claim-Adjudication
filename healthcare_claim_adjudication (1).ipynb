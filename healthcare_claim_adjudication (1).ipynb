{
  "nbformat": 4,
  "nbformat_minor": 0,
  "metadata": {
    "colab": {
      "provenance": []
    },
    "kernelspec": {
      "name": "python3",
      "display_name": "Python 3"
    },
    "language_info": {
      "name": "python"
    }
  },
  "cells": [
    {
      "cell_type": "code",
      "source": [
        "!pip install pandas numpy scikit-learn matplotlib seaborn plotly\n"
      ],
      "metadata": {
        "colab": {
          "base_uri": "https://localhost:8080/",
          "height": 400
        },
        "collapsed": true,
        "id": "wvfb8MBAZ6-X",
        "outputId": "9967e196-e8a2-4515-acb8-d5c7d392307e"
      },
      "execution_count": 2,
      "outputs": [
        {
          "output_type": "stream",
          "name": "stdout",
          "text": [
            "Requirement already satisfied: pandas in /usr/local/lib/python3.11/dist-packages (2.2.2)\n",
            "Requirement already satisfied: numpy in /usr/local/lib/python3.11/dist-packages (2.0.2)\n",
            "Requirement already satisfied: scikit-learn in /usr/local/lib/python3.11/dist-packages (1.6.1)\n",
            "Requirement already satisfied: matplotlib in /usr/local/lib/python3.11/dist-packages (3.10.0)\n",
            "Requirement already satisfied: seaborn in /usr/local/lib/python3.11/dist-packages (0.13.2)\n",
            "Requirement already satisfied: plotly in /usr/local/lib/python3.11/dist-packages (5.24.1)\n",
            "Requirement already satisfied: python-dateutil>=2.8.2 in /usr/local/lib/python3.11/dist-packages (from pandas) (2.8.2)\n",
            "Requirement already satisfied: pytz>=2020.1 in /usr/local/lib/python3.11/dist-packages (from pandas) (2025.2)\n",
            "Requirement already satisfied: tzdata>=2022.7 in /usr/local/lib/python3.11/dist-packages (from pandas) (2025.2)\n",
            "Requirement already satisfied: scipy>=1.6.0 in /usr/local/lib/python3.11/dist-packages (from scikit-learn) (1.14.1)\n",
            "Requirement already satisfied: joblib>=1.2.0 in /usr/local/lib/python3.11/dist-packages (from scikit-learn) (1.4.2)\n",
            "Requirement already satisfied: threadpoolctl>=3.1.0 in /usr/local/lib/python3.11/dist-packages (from scikit-learn) (3.6.0)\n",
            "Requirement already satisfied: contourpy>=1.0.1 in /usr/local/lib/python3.11/dist-packages (from matplotlib) (1.3.1)\n",
            "Requirement already satisfied: cycler>=0.10 in /usr/local/lib/python3.11/dist-packages (from matplotlib) (0.12.1)\n",
            "Requirement already satisfied: fonttools>=4.22.0 in /usr/local/lib/python3.11/dist-packages (from matplotlib) (4.57.0)\n",
            "Requirement already satisfied: kiwisolver>=1.3.1 in /usr/local/lib/python3.11/dist-packages (from matplotlib) (1.4.8)\n",
            "Requirement already satisfied: packaging>=20.0 in /usr/local/lib/python3.11/dist-packages (from matplotlib) (24.2)\n",
            "Requirement already satisfied: pillow>=8 in /usr/local/lib/python3.11/dist-packages (from matplotlib) (11.1.0)\n",
            "Requirement already satisfied: pyparsing>=2.3.1 in /usr/local/lib/python3.11/dist-packages (from matplotlib) (3.2.3)\n",
            "Requirement already satisfied: tenacity>=6.2.0 in /usr/local/lib/python3.11/dist-packages (from plotly) (9.1.2)\n",
            "Requirement already satisfied: six>=1.5 in /usr/local/lib/python3.11/dist-packages (from python-dateutil>=2.8.2->pandas) (1.17.0)\n"
          ]
        },
        {
          "output_type": "execute_result",
          "data": {
            "text/plain": [
              "'\\nFrooti UMmmmmmmmmmmmmmmmmmmmmm\\n'"
            ],
            "application/vnd.google.colaboratory.intrinsic+json": {
              "type": "string"
            }
          },
          "metadata": {},
          "execution_count": 2
        }
      ]
    },
    {
      "cell_type": "code",
      "source": [
        "import pandas as pd"
      ],
      "metadata": {
        "id": "HfE6yZD3r3TS"
      },
      "execution_count": 5,
      "outputs": []
    },
    {
      "cell_type": "code",
      "source": [
        "from google.colab import drive\n",
        "drive.mount('/content/drive')\n",
        "df = pd.read_csv('/content/drive/My Drive/healthcare_dataset.csv')"
      ],
      "metadata": {
        "colab": {
          "base_uri": "https://localhost:8080/"
        },
        "id": "KB7QHRyNiPMN",
        "outputId": "4b293ff9-f6a1-43d1-a7ef-9ff7cbf305ca"
      },
      "execution_count": 6,
      "outputs": [
        {
          "output_type": "stream",
          "name": "stdout",
          "text": [
            "Drive already mounted at /content/drive; to attempt to forcibly remount, call drive.mount(\"/content/drive\", force_remount=True).\n"
          ]
        }
      ]
    },
    {
      "cell_type": "code",
      "source": [
        "from google.colab import drive\n",
        "drive.mount('/content/drive')"
      ],
      "metadata": {
        "colab": {
          "base_uri": "https://localhost:8080/"
        },
        "id": "4fEZ_KAgr_5Y",
        "outputId": "70b7c99e-d3ee-470b-c9fc-0c8a59f69698"
      },
      "execution_count": 7,
      "outputs": [
        {
          "output_type": "stream",
          "name": "stdout",
          "text": [
            "Drive already mounted at /content/drive; to attempt to forcibly remount, call drive.mount(\"/content/drive\", force_remount=True).\n"
          ]
        }
      ]
    },
    {
      "cell_type": "code",
      "source": [],
      "metadata": {
        "id": "qL5FNlhHrsL5"
      },
      "execution_count": null,
      "outputs": []
    },
    {
      "cell_type": "code",
      "execution_count": 8,
      "metadata": {
        "id": "vHoDiMrrX1jo"
      },
      "outputs": [],
      "source": [
        "import pandas as pd\n",
        "import numpy as np\n",
        "from sklearn.model_selection import train_test_split\n",
        "from sklearn.linear_model import LogisticRegression\n",
        "from sklearn.preprocessing import StandardScaler, LabelEncoder\n",
        "from sklearn.metrics import accuracy_score, precision_score, recall_score, f1_score, confusion_matrix\n",
        "import matplotlib.pyplot as plt\n",
        "import seaborn as sns\n",
        "import plotly.express as px\n",
        "import plotly.graph_objects as go\n",
        "from datetime import datetime"
      ]
    },
    {
      "cell_type": "code",
      "source": [
        "import pandas as pd\n",
        "import numpy as np\n",
        "from sklearn.preprocessing import StandardScaler, LabelEncoder\n",
        "from datetime import datetime\n",
        "\n",
        "# Set random seed\n",
        "np.random.seed(42)\n",
        "\n",
        "def load_and_preprocess_data():\n",
        "    # Load dataset\n",
        "    df = pd.read_csv('/content/drive/MyDrive/healthcare_dataset.csv')\n",
        "\n",
        "    # Clean column names\n",
        "    df.columns = df.columns.str.replace(' ', '_').str.lower()\n",
        "\n",
        "    # Calculate length of stay\n",
        "    df['date_of_admission'] = pd.to_datetime(df['date_of_admission'])\n",
        "    df['discharge_date'] = pd.to_datetime(df['discharge_date'])\n",
        "    df['length_of_stay'] = (df['discharge_date'] - df['date_of_admission']).dt.days\n",
        "\n",
        "    # Create synthetic is_denied column\n",
        "    df['is_denied'] = 0\n",
        "    df.loc[df['billing_amount'] < 100, 'is_denied'] = 1\n",
        "    df.loc[df['test_results'].isin(['Abnormal', 'Inconclusive']), 'is_denied'] = \\\n",
        "        df.loc[df['test_results'].isin(['Abnormal', 'Inconclusive'])]['is_denied'].apply(\n",
        "            lambda x: np.random.choice([0, 1], p=[0.3, 0.7])\n",
        "        )\n",
        "    random_denials = np.random.choice([0, 1], size=len(df), p=[0.85, 0.15])\n",
        "    df['is_denied'] = df['is_denied'] | random_denials\n",
        "\n",
        "    # Select features\n",
        "    features = ['age', 'gender', 'blood_type', 'medical_condition', 'billing_amount',\n",
        "                'insurance_provider', 'room_number', 'admission_type', 'medication',\n",
        "                'test_results', 'length_of_stay']\n",
        "    X = df[features].copy()\n",
        "    y = df['is_denied']\n",
        "\n",
        "    # Encode categorical variables\n",
        "    le = LabelEncoder()\n",
        "    categorical_cols = ['gender', 'blood_type', 'medical_condition', 'insurance_provider',\n",
        "                       'admission_type', 'medication', 'test_results']\n",
        "    for col in categorical_cols:\n",
        "        X.loc[:, col] = le.fit_transform(X[col])\n",
        "\n",
        "    # Scale numerical features\n",
        "    scaler = StandardScaler()\n",
        "    numerical_cols = ['age', 'billing_amount', 'room_number', 'length_of_stay']\n",
        "    X.loc[:, numerical_cols] = scaler.fit_transform(X[numerical_cols])\n",
        "\n",
        "    return X, y, df\n",
        "\n",
        "# Run preprocessing\n",
        "X, y, df = load_and_preprocess_data()\n",
        "print(\"Data preprocessed successfully. Shape of X:\", X.shape, \"Shape of y:\", y.shape)"
      ],
      "metadata": {
        "colab": {
          "base_uri": "https://localhost:8080/"
        },
        "id": "7Izu4Fg_YC6K",
        "outputId": "3ca60290-7f60-47b4-f244-136740cb4570"
      },
      "execution_count": 10,
      "outputs": [
        {
          "output_type": "stream",
          "name": "stdout",
          "text": [
            "Data preprocessed successfully. Shape of X: (55500, 11) Shape of y: (55500,)\n"
          ]
        },
        {
          "output_type": "stream",
          "name": "stderr",
          "text": [
            "<ipython-input-10-ae826cd68d95>:48: FutureWarning: Setting an item of incompatible dtype is deprecated and will raise in a future error of pandas. Value '[-1.09882435  0.53363905  1.24784178 ... -0.6907085  -0.43563609\n",
            "  0.07450872]' has dtype incompatible with int64, please explicitly cast to a compatible dtype first.\n",
            "  X.loc[:, numerical_cols] = scaler.fit_transform(X[numerical_cols])\n",
            "<ipython-input-10-ae826cd68d95>:48: FutureWarning: Setting an item of incompatible dtype is deprecated and will raise in a future error of pandas. Value '[ 0.23311956 -0.31355599 -0.83419937 ...  0.39798996  0.17237783\n",
            "  1.27440631]' has dtype incompatible with int64, please explicitly cast to a compatible dtype first.\n",
            "  X.loc[:, numerical_cols] = scaler.fit_transform(X[numerical_cols])\n",
            "<ipython-input-10-ae826cd68d95>:48: FutureWarning: Setting an item of incompatible dtype is deprecated and will raise in a future error of pandas. Value '[-1.56001783 -1.09809858 -0.05878027 ...  1.4424573  -1.09809858\n",
            "  1.32697749]' has dtype incompatible with int64, please explicitly cast to a compatible dtype first.\n",
            "  X.loc[:, numerical_cols] = scaler.fit_transform(X[numerical_cols])\n"
          ]
        }
      ]
    },
    {
      "cell_type": "code",
      "source": [
        "from sklearn.model_selection import train_test_split\n",
        "from sklearn.linear_model import LogisticRegression\n",
        "from sklearn.metrics import accuracy_score, precision_score, recall_score, f1_score\n",
        "\n",
        "def train_model(X, y):\n",
        "    X_train, X_test, y_train, y_test = train_test_split(X, y, test_size=0.2, random_state=42)\n",
        "    model = LogisticRegression(random_state=42, max_iter=1000)\n",
        "    model.fit(X_train, y_train)\n",
        "    y_pred = model.predict(X_test)\n",
        "    metrics = {\n",
        "        'accuracy': accuracy_score(y_test, y_pred),\n",
        "        'precision': precision_score(y_test, y_pred),\n",
        "        'recall': recall_score(y_test, y_pred),\n",
        "        'f1': f1_score(y_test, y_pred)\n",
        "    }\n",
        "    return model, metrics, X_test, y_test, y_pred\n",
        "\n",
        "# Train model\n",
        "model, metrics, X_test, y_test, y_pred = train_model(X, y)\n",
        "print(\"Model Performance:\")\n",
        "for metric, value in metrics.items():\n",
        "    print(f\"{metric.capitalize()}: {value:.4f}\")"
      ],
      "metadata": {
        "colab": {
          "base_uri": "https://localhost:8080/"
        },
        "id": "i_sm5pwjjne1",
        "outputId": "1dbe5d78-affd-450e-a47f-b9bcb723ac84"
      },
      "execution_count": 11,
      "outputs": [
        {
          "output_type": "stream",
          "name": "stdout",
          "text": [
            "Model Performance:\n",
            "Accuracy: 0.7806\n",
            "Precision: 0.7417\n",
            "Recall: 0.9115\n",
            "F1: 0.8179\n"
          ]
        }
      ]
    },
    {
      "cell_type": "code",
      "source": [
        "import matplotlib.pyplot as plt\n",
        "import seaborn as sns\n",
        "from sklearn.metrics import confusion_matrix\n",
        "\n",
        "def create_static_visualizations(metrics, X_test, y_test, y_pred, df, model):\n",
        "    # Plot metrics\n",
        "    plt.figure(figsize=(10, 6))\n",
        "    plt.bar(metrics.keys(), metrics.values(), color='skyblue')\n",
        "    plt.title('Model Performance Metrics')\n",
        "    plt.ylabel('Score')\n",
        "    plt.ylim(0, 1)\n",
        "    plt.savefig('/content/metrics_plot.png')\n",
        "    plt.close()\n",
        "\n",
        "    # Plot confusion matrix\n",
        "    cm = confusion_matrix(y_test, y_pred)\n",
        "    plt.figure(figsize=(6, 6))\n",
        "    sns.heatmap(cm, annot=True, fmt='d', cmap='Blues', cbar=False)\n",
        "    plt.title('Confusion Matrix')\n",
        "    plt.xlabel('Predicted')\n",
        "    plt.ylabel('Actual')\n",
        "    plt.savefig('/content/confusion_matrix.png')\n",
        "    plt.close()\n",
        "\n",
        "    # Feature importance\n",
        "    feature_importance = pd.DataFrame({\n",
        "        'Feature': X_test.columns,\n",
        "        'Importance': np.abs(model.coef_[0])\n",
        "    }).sort_values('Importance', ascending=False)\n",
        "\n",
        "    plt.figure(figsize=(10, 6))\n",
        "    sns.barplot(x='Importance', y='Feature', data=feature_importance)\n",
        "    plt.title('Feature Importance')\n",
        "    plt.savefig('/content/feature_importance.png')\n",
        "    plt.close()\n",
        "\n",
        "# Create static visualizations\n",
        "create_static_visualizations(metrics, X_test, y_test, y_pred, df, model)\n",
        "print(\"Static visualizations saved as PNGs in /content/\")"
      ],
      "metadata": {
        "colab": {
          "base_uri": "https://localhost:8080/"
        },
        "id": "Q0hUVUkAjqUN",
        "outputId": "079b6cc4-c08a-4018-fb05-ac9dd315e0dc"
      },
      "execution_count": 12,
      "outputs": [
        {
          "output_type": "stream",
          "name": "stdout",
          "text": [
            "Static visualizations saved as PNGs in /content/\n"
          ]
        }
      ]
    },
    {
      "cell_type": "code",
      "source": [
        "import plotly.express as px\n",
        "import plotly.graph_objects as go\n",
        "\n",
        "def create_interactive_visualizations(df, metrics, model, X_test, y_test, y_pred):\n",
        "    # Metrics bar plot\n",
        "    fig_metrics = px.bar(\n",
        "        x=list(metrics.keys()),\n",
        "        y=list(metrics.values()),\n",
        "        labels={'x': 'Metric', 'y': 'Score'},\n",
        "        title='Model Performance Metrics'\n",
        "    )\n",
        "    fig_metrics.update_layout(yaxis_range=[0, 1])\n",
        "    fig_metrics.write_html('/content/metrics_plot.html')\n",
        "\n",
        "    # Confusion matrix\n",
        "    cm = confusion_matrix(y_test, y_pred)\n",
        "    fig_cm = go.Figure(\n",
        "        data=go.Heatmap(\n",
        "            z=cm,\n",
        "            x=['Paid', 'Denied'],\n",
        "            y=['Paid', 'Denied'],\n",
        "            colorscale='Blues',\n",
        "            showscale=False,\n",
        "            text=cm,\n",
        "            texttemplate=\"%{text}\",\n",
        "            textfont={\"size\": 20}\n",
        "        )\n",
        "    )\n",
        "    fig_cm.update_layout(title='Confusion Matrix')\n",
        "    fig_cm.write_html('/content/confusion_matrix.html')\n",
        "\n",
        "    # Feature importance\n",
        "    feature_importance = pd.DataFrame({\n",
        "        'Feature': X_test.columns,\n",
        "        'Importance': np.abs(model.coef_[0])\n",
        "    }).sort_values('Importance', ascending=False)\n",
        "    fig_fi = px.bar(\n",
        "        x=feature_importance['Importance'],\n",
        "        y=feature_importance['Feature'],\n",
        "        orientation='h',\n",
        "        labels={'x': 'Importance', 'y': 'Feature'},\n",
        "        title='Feature Importance'\n",
        "    )\n",
        "    fig_fi.write_html('/content/feature_importance.html')\n",
        "\n",
        "    # Denial rate by medical condition\n",
        "    fig_denial = px.histogram(\n",
        "        df,\n",
        "        x='medical_condition',\n",
        "        color='is_denied',\n",
        "        barmode='group',\n",
        "        labels={'is_denied': 'Claim Status'},\n",
        "        title='Denial Rate by Medical Condition'\n",
        "    )\n",
        "    fig_denial.write_html('/content/denial_by_condition.html')\n",
        "\n",
        "# Create interactive visualizations\n",
        "create_interactive_visualizations(df, metrics, model, X_test, y_test, y_pred)\n",
        "print(\"Interactive visualizations saved as HTMLs in /content/\")\n",
        "\n",
        "# Save processed dataset\n",
        "df.to_csv('/content/processed_healthcare_data.csv', index=False)\n",
        "print(\"Processed dataset saved as /content/processed_healthcare_data.csv\")"
      ],
      "metadata": {
        "colab": {
          "base_uri": "https://localhost:8080/"
        },
        "id": "Ha_u82Q7jtfx",
        "outputId": "bfae5dbc-dbfc-4905-bbf9-1bbf4c23a748"
      },
      "execution_count": 13,
      "outputs": [
        {
          "output_type": "stream",
          "name": "stdout",
          "text": [
            "Interactive visualizations saved as HTMLs in /content/\n",
            "Processed dataset saved as /content/processed_healthcare_data.csv\n"
          ]
        }
      ]
    },
    {
      "cell_type": "code",
      "source": [
        "from IPython.display import Image, display\n",
        "for img in ['metrics_plot.png', 'confusion_matrix.png', 'feature_importance.png']:\n",
        "    display(Image(filename=f'/content/{img}'))"
      ],
      "metadata": {
        "colab": {
          "base_uri": "https://localhost:8080/",
          "height": 1000
        },
        "id": "RlOg1wpmt8Dk",
        "outputId": "8109e517-c904-4fcb-f087-a9c4cc93b916"
      },
      "execution_count": 14,
      "outputs": [
        {
          "output_type": "display_data",
          "data": {
            "image/png": "[encoded data removed]",
            "text/plain": [
              "<IPython.core.display.Image object>"
            ]
          },
          "metadata": {}
        },
        {
          "output_type": "display_data",
          "data": {
            "image/png": "[encoded data removed]",
            "text/plain": [
              "<IPython.core.display.Image object>"
            ]
          },
          "metadata": {}
        },
        {
          "output_type": "display_data",
          "data": {
            "image/png": "[encoded data removed]",
            "text/plain": [
              "<IPython.core.display.Image object>"
            ]
          },
          "metadata": {}
        }
      ]
    }
  ]
}